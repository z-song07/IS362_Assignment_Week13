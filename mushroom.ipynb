{
 "cells": [
  {
   "cell_type": "markdown",
   "id": "398516bf-cdea-4448-bb9c-19ca035057f3",
   "metadata": {},
   "source": [
    "# Preprocessing Data for Mushroom"
   ]
  },
  {
   "cell_type": "code",
   "execution_count": 1,
   "id": "df431b31",
   "metadata": {},
   "outputs": [],
   "source": [
    "# import libraries\n",
    "import pandas as pd\n",
    "import seaborn as sns\n",
    "import matplotlib.pyplot as plt\n",
    "import sklearn"
   ]
  },
  {
   "cell_type": "code",
   "execution_count": 2,
   "id": "aa5f2474",
   "metadata": {},
   "outputs": [
    {
     "data": {
      "text/html": [
       "<div>\n",
       "<style scoped>\n",
       "    .dataframe tbody tr th:only-of-type {\n",
       "        vertical-align: middle;\n",
       "    }\n",
       "\n",
       "    .dataframe tbody tr th {\n",
       "        vertical-align: top;\n",
       "    }\n",
       "\n",
       "    .dataframe thead th {\n",
       "        text-align: right;\n",
       "    }\n",
       "</style>\n",
       "<table border=\"1\" class=\"dataframe\">\n",
       "  <thead>\n",
       "    <tr style=\"text-align: right;\">\n",
       "      <th></th>\n",
       "      <th>target</th>\n",
       "      <th>odor</th>\n",
       "      <th>gill-attachment</th>\n",
       "      <th>gill-spacing</th>\n",
       "      <th>gill-size</th>\n",
       "      <th>gill-color</th>\n",
       "    </tr>\n",
       "  </thead>\n",
       "  <tbody>\n",
       "    <tr>\n",
       "      <th>0</th>\n",
       "      <td>p</td>\n",
       "      <td>p</td>\n",
       "      <td>f</td>\n",
       "      <td>c</td>\n",
       "      <td>n</td>\n",
       "      <td>k</td>\n",
       "    </tr>\n",
       "    <tr>\n",
       "      <th>1</th>\n",
       "      <td>e</td>\n",
       "      <td>a</td>\n",
       "      <td>f</td>\n",
       "      <td>c</td>\n",
       "      <td>b</td>\n",
       "      <td>k</td>\n",
       "    </tr>\n",
       "    <tr>\n",
       "      <th>2</th>\n",
       "      <td>e</td>\n",
       "      <td>l</td>\n",
       "      <td>f</td>\n",
       "      <td>c</td>\n",
       "      <td>b</td>\n",
       "      <td>n</td>\n",
       "    </tr>\n",
       "    <tr>\n",
       "      <th>3</th>\n",
       "      <td>p</td>\n",
       "      <td>p</td>\n",
       "      <td>f</td>\n",
       "      <td>c</td>\n",
       "      <td>n</td>\n",
       "      <td>n</td>\n",
       "    </tr>\n",
       "    <tr>\n",
       "      <th>4</th>\n",
       "      <td>e</td>\n",
       "      <td>n</td>\n",
       "      <td>f</td>\n",
       "      <td>w</td>\n",
       "      <td>b</td>\n",
       "      <td>k</td>\n",
       "    </tr>\n",
       "  </tbody>\n",
       "</table>\n",
       "</div>"
      ],
      "text/plain": [
       "  target odor gill-attachment gill-spacing gill-size gill-color\n",
       "0      p    p               f            c         n          k\n",
       "1      e    a               f            c         b          k\n",
       "2      e    l               f            c         b          n\n",
       "3      p    p               f            c         n          n\n",
       "4      e    n               f            w         b          k"
      ]
     },
     "execution_count": 2,
     "metadata": {},
     "output_type": "execute_result"
    }
   ],
   "source": [
    "# read mushroom data and add headers to the columns\n",
    "mushroom = pd.read_csv('agaricus-lepiota.data',usecols=[0,5,6,7,8,9], header=None)\n",
    "mushroom.columns = ['target', 'odor', 'gill-attachment', 'gill-spacing', 'gill-size', 'gill-color']\n",
    "mushroom.head()"
   ]
  },
  {
   "cell_type": "markdown",
   "id": "f392c215-3ed8-4111-af9c-ad078cc20f33",
   "metadata": {},
   "source": [
    "The target for the mushroom dataset that we want to predict is if the mushroom is poisonous or edible.\n",
    "\n",
    "First, we want to analyze the different features relate to the target.\n",
    "\n",
    "1. Odor vs Target"
   ]
  },
  {
   "cell_type": "code",
   "execution_count": 3,
   "id": "441c7ad3-3f83-4f80-9807-9a4be2020abe",
   "metadata": {
    "scrolled": true
   },
   "outputs": [
    {
     "data": {
      "text/html": [
       "<div>\n",
       "<style scoped>\n",
       "    .dataframe tbody tr th:only-of-type {\n",
       "        vertical-align: middle;\n",
       "    }\n",
       "\n",
       "    .dataframe tbody tr th {\n",
       "        vertical-align: top;\n",
       "    }\n",
       "\n",
       "    .dataframe thead th {\n",
       "        text-align: right;\n",
       "    }\n",
       "</style>\n",
       "<table border=\"1\" class=\"dataframe\">\n",
       "  <thead>\n",
       "    <tr style=\"text-align: right;\">\n",
       "      <th></th>\n",
       "      <th></th>\n",
       "      <th>Count</th>\n",
       "      <th>Percentage</th>\n",
       "    </tr>\n",
       "    <tr>\n",
       "      <th>odor</th>\n",
       "      <th>target</th>\n",
       "      <th></th>\n",
       "      <th></th>\n",
       "    </tr>\n",
       "  </thead>\n",
       "  <tbody>\n",
       "    <tr>\n",
       "      <th>a</th>\n",
       "      <th>e</th>\n",
       "      <td>400</td>\n",
       "      <td>100.000000</td>\n",
       "    </tr>\n",
       "    <tr>\n",
       "      <th>c</th>\n",
       "      <th>p</th>\n",
       "      <td>192</td>\n",
       "      <td>100.000000</td>\n",
       "    </tr>\n",
       "    <tr>\n",
       "      <th>f</th>\n",
       "      <th>p</th>\n",
       "      <td>2160</td>\n",
       "      <td>100.000000</td>\n",
       "    </tr>\n",
       "    <tr>\n",
       "      <th>l</th>\n",
       "      <th>e</th>\n",
       "      <td>400</td>\n",
       "      <td>100.000000</td>\n",
       "    </tr>\n",
       "    <tr>\n",
       "      <th>m</th>\n",
       "      <th>p</th>\n",
       "      <td>36</td>\n",
       "      <td>100.000000</td>\n",
       "    </tr>\n",
       "    <tr>\n",
       "      <th rowspan=\"2\" valign=\"top\">n</th>\n",
       "      <th>e</th>\n",
       "      <td>3408</td>\n",
       "      <td>96.598639</td>\n",
       "    </tr>\n",
       "    <tr>\n",
       "      <th>p</th>\n",
       "      <td>120</td>\n",
       "      <td>3.401361</td>\n",
       "    </tr>\n",
       "    <tr>\n",
       "      <th>p</th>\n",
       "      <th>p</th>\n",
       "      <td>256</td>\n",
       "      <td>100.000000</td>\n",
       "    </tr>\n",
       "    <tr>\n",
       "      <th>s</th>\n",
       "      <th>p</th>\n",
       "      <td>576</td>\n",
       "      <td>100.000000</td>\n",
       "    </tr>\n",
       "    <tr>\n",
       "      <th>y</th>\n",
       "      <th>p</th>\n",
       "      <td>576</td>\n",
       "      <td>100.000000</td>\n",
       "    </tr>\n",
       "  </tbody>\n",
       "</table>\n",
       "</div>"
      ],
      "text/plain": [
       "             Count  Percentage\n",
       "odor target                   \n",
       "a    e         400  100.000000\n",
       "c    p         192  100.000000\n",
       "f    p        2160  100.000000\n",
       "l    e         400  100.000000\n",
       "m    p          36  100.000000\n",
       "n    e        3408   96.598639\n",
       "     p         120    3.401361\n",
       "p    p         256  100.000000\n",
       "s    p         576  100.000000\n",
       "y    p         576  100.000000"
      ]
     },
     "execution_count": 3,
     "metadata": {},
     "output_type": "execute_result"
    }
   ],
   "source": [
    "# find out for each category of odor, how many are edible/poisonous\n",
    "odor_target_count = mushroom.groupby(['odor', 'target']).size()\n",
    "odor_target_percentage = odor_target_count/mushroom.groupby('odor').size() *100\n",
    "odor_target_result = pd.DataFrame({'Count':odor_target_count, 'Percentage':odor_target_percentage})\n",
    "odor_target_result"
   ]
  },
  {
   "cell_type": "code",
   "execution_count": 4,
   "id": "3db54ccb-97ec-4f9f-806f-041f382d26a7",
   "metadata": {},
   "outputs": [
    {
     "data": {
      "text/plain": [
       "<Axes: xlabel='count', ylabel='odor'>"
      ]
     },
     "execution_count": 4,
     "metadata": {},
     "output_type": "execute_result"
    },
    {
     "data": {
      "image/png": "[encoded data removed]",
      "text/plain": [
       "<Figure size 640x480 with 1 Axes>"
      ]
     },
     "metadata": {},
     "output_type": "display_data"
    }
   ],
   "source": [
    "sns.countplot(data=mushroom, y='odor', hue='target')"
   ]
  },
  {
   "cell_type": "markdown",
   "id": "971eb7b7-0e9b-4508-803c-a8a8de8dcedc",
   "metadata": {},
   "source": [
    "From the previous plot and calculation, odor can be a feature that is useful in predicting if a mushroom is poisonous or edible. In the current dataset, mushrooms with odor that are pungent(p), foul(f), creosote(c), fishy(y), spicy(s), and musty(m) are 100% poisonous. Mushrooms with odor that are almond(a) and anise(l) are 100% edible. About 96.6% of the mushrooms with no smell(n) are edible."
   ]
  },
  {
   "cell_type": "markdown",
   "id": "acc1f6b7-b407-44a1-94b2-70bb091b05c0",
   "metadata": {},
   "source": [
    "2. \tGill Attachment vs Target"
   ]
  },
  {
   "cell_type": "code",
   "execution_count": 5,
   "id": "3707d924-8dd5-4664-893c-18840c02c897",
   "metadata": {},
   "outputs": [
    {
     "data": {
      "text/html": [
       "<div>\n",
       "<style scoped>\n",
       "    .dataframe tbody tr th:only-of-type {\n",
       "        vertical-align: middle;\n",
       "    }\n",
       "\n",
       "    .dataframe tbody tr th {\n",
       "        vertical-align: top;\n",
       "    }\n",
       "\n",
       "    .dataframe thead th {\n",
       "        text-align: right;\n",
       "    }\n",
       "</style>\n",
       "<table border=\"1\" class=\"dataframe\">\n",
       "  <thead>\n",
       "    <tr style=\"text-align: right;\">\n",
       "      <th></th>\n",
       "      <th></th>\n",
       "      <th>Count</th>\n",
       "      <th>Percentage</th>\n",
       "    </tr>\n",
       "    <tr>\n",
       "      <th>gill-attachment</th>\n",
       "      <th>target</th>\n",
       "      <th></th>\n",
       "      <th></th>\n",
       "    </tr>\n",
       "  </thead>\n",
       "  <tbody>\n",
       "    <tr>\n",
       "      <th rowspan=\"2\" valign=\"top\">a</th>\n",
       "      <th>e</th>\n",
       "      <td>192</td>\n",
       "      <td>91.428571</td>\n",
       "    </tr>\n",
       "    <tr>\n",
       "      <th>p</th>\n",
       "      <td>18</td>\n",
       "      <td>8.571429</td>\n",
       "    </tr>\n",
       "    <tr>\n",
       "      <th rowspan=\"2\" valign=\"top\">f</th>\n",
       "      <th>e</th>\n",
       "      <td>4016</td>\n",
       "      <td>50.745514</td>\n",
       "    </tr>\n",
       "    <tr>\n",
       "      <th>p</th>\n",
       "      <td>3898</td>\n",
       "      <td>49.254486</td>\n",
       "    </tr>\n",
       "  </tbody>\n",
       "</table>\n",
       "</div>"
      ],
      "text/plain": [
       "                        Count  Percentage\n",
       "gill-attachment target                   \n",
       "a               e         192   91.428571\n",
       "                p          18    8.571429\n",
       "f               e        4016   50.745514\n",
       "                p        3898   49.254486"
      ]
     },
     "execution_count": 5,
     "metadata": {},
     "output_type": "execute_result"
    }
   ],
   "source": [
    "# find out for each category of gill-attachment, how many are edible/poisonous\n",
    "gill_attachment_target_count = mushroom.groupby(['gill-attachment', 'target']).size()\n",
    "gill_attachment_target_percentage = gill_attachment_target_count/mushroom.groupby('gill-attachment').size() *100\n",
    "gill_attachment_target_result = pd.DataFrame({'Count':gill_attachment_target_count, 'Percentage':gill_attachment_target_percentage})\n",
    "gill_attachment_target_result"
   ]
  },
  {
   "cell_type": "code",
   "execution_count": 6,
   "id": "cf7eded0-ced5-4701-a6aa-249d87b032fb",
   "metadata": {},
   "outputs": [
    {
     "data": {
      "text/plain": [
       "<Axes: xlabel='count', ylabel='gill-attachment'>"
      ]
     },
     "execution_count": 6,
     "metadata": {},
     "output_type": "execute_result"
    },
    {
     "data": {
      "image/png": "[encoded data removed]",
      "text/plain": [
       "<Figure size 640x480 with 1 Axes>"
      ]
     },
     "metadata": {},
     "output_type": "display_data"
    }
   ],
   "source": [
    "sns.countplot(data=mushroom, y='gill-attachment', hue='target')"
   ]
  },
  {
   "cell_type": "markdown",
   "id": "93f7cbcd-93cc-4dce-807a-39f52972c6f4",
   "metadata": {},
   "source": [
    "From the plot and calculation for correlation between gill attachment and the target, 91.43% of mushrooms with attached(a) gills are edible and 8.57% are poisonous. 50.76% of mushrooms with free(a) gills are edible and 49.25% are poisonous. In the current dataset, most of the mushrooms with attached(a) gills are edible, but for mushrooms with free(f) gills it's almost half edible and half poisonous. We will have to further examine the correlation between the gill-attachment feature and target."
   ]
  },
  {
   "cell_type": "markdown",
   "id": "0647b754-1265-45f8-825f-77b6bf1f165c",
   "metadata": {},
   "source": [
    "3. \tGill Spacing vs Target"
   ]
  },
  {
   "cell_type": "code",
   "execution_count": 7,
   "id": "297affe2-84b9-474c-9a27-16e606717a5e",
   "metadata": {},
   "outputs": [
    {
     "data": {
      "text/html": [
       "<div>\n",
       "<style scoped>\n",
       "    .dataframe tbody tr th:only-of-type {\n",
       "        vertical-align: middle;\n",
       "    }\n",
       "\n",
       "    .dataframe tbody tr th {\n",
       "        vertical-align: top;\n",
       "    }\n",
       "\n",
       "    .dataframe thead th {\n",
       "        text-align: right;\n",
       "    }\n",
       "</style>\n",
       "<table border=\"1\" class=\"dataframe\">\n",
       "  <thead>\n",
       "    <tr style=\"text-align: right;\">\n",
       "      <th></th>\n",
       "      <th></th>\n",
       "      <th>Count</th>\n",
       "      <th>Percentage</th>\n",
       "    </tr>\n",
       "    <tr>\n",
       "      <th>gill-spacing</th>\n",
       "      <th>target</th>\n",
       "      <th></th>\n",
       "      <th></th>\n",
       "    </tr>\n",
       "  </thead>\n",
       "  <tbody>\n",
       "    <tr>\n",
       "      <th rowspan=\"2\" valign=\"top\">c</th>\n",
       "      <th>e</th>\n",
       "      <td>3008</td>\n",
       "      <td>44.157369</td>\n",
       "    </tr>\n",
       "    <tr>\n",
       "      <th>p</th>\n",
       "      <td>3804</td>\n",
       "      <td>55.842631</td>\n",
       "    </tr>\n",
       "    <tr>\n",
       "      <th rowspan=\"2\" valign=\"top\">w</th>\n",
       "      <th>e</th>\n",
       "      <td>1200</td>\n",
       "      <td>91.463415</td>\n",
       "    </tr>\n",
       "    <tr>\n",
       "      <th>p</th>\n",
       "      <td>112</td>\n",
       "      <td>8.536585</td>\n",
       "    </tr>\n",
       "  </tbody>\n",
       "</table>\n",
       "</div>"
      ],
      "text/plain": [
       "                     Count  Percentage\n",
       "gill-spacing target                   \n",
       "c            e        3008   44.157369\n",
       "             p        3804   55.842631\n",
       "w            e        1200   91.463415\n",
       "             p         112    8.536585"
      ]
     },
     "execution_count": 7,
     "metadata": {},
     "output_type": "execute_result"
    }
   ],
   "source": [
    "# find out for each category of gill-spacing, how many are edible/poisonous\n",
    "gill_spacing_target_count = mushroom.groupby(['gill-spacing', 'target']).size()\n",
    "gill_spacing_target_percentage = gill_spacing_target_count/mushroom.groupby('gill-spacing').size() *100\n",
    "gill_spacing_target_result = pd.DataFrame({'Count':gill_spacing_target_count, 'Percentage':gill_spacing_target_percentage})\n",
    "gill_spacing_target_result"
   ]
  },
  {
   "cell_type": "code",
   "execution_count": 8,
   "id": "bc54bb92-3bb0-4f63-b3bc-9dfdf3a8de4b",
   "metadata": {},
   "outputs": [
    {
     "data": {
      "text/plain": [
       "<Axes: xlabel='count', ylabel='gill-spacing'>"
      ]
     },
     "execution_count": 8,
     "metadata": {},
     "output_type": "execute_result"
    },
    {
     "data": {
      "image/png": "[encoded data removed]",
      "text/plain": [
       "<Figure size 640x480 with 1 Axes>"
      ]
     },
     "metadata": {},
     "output_type": "display_data"
    }
   ],
   "source": [
    "sns.countplot(data=mushroom, y='gill-spacing', hue='target')"
   ]
  },
  {
   "cell_type": "markdown",
   "id": "29c3d79b-97ad-4cdc-9dcd-3bdbc51dda47",
   "metadata": {},
   "source": [
    "Gill spacing is another feature we need to further examine before using it to predict if a mushroom is poisonous or edible. About 55.84% of mushrooms with close spacing is poisonous, and 44.16% are edible. About 91.46% of mushrooms with wide spacing is edible, and 8.54% are poisonous."
   ]
  },
  {
   "cell_type": "markdown",
   "id": "1ff8f042-e34e-4e6f-abb4-a5813dcbd797",
   "metadata": {},
   "source": [
    "4. \tGill Size vs Target"
   ]
  },
  {
   "cell_type": "code",
   "execution_count": 9,
   "id": "b19fd2a3-701b-4909-ac8a-44d64aee6c16",
   "metadata": {},
   "outputs": [
    {
     "data": {
      "text/html": [
       "<div>\n",
       "<style scoped>\n",
       "    .dataframe tbody tr th:only-of-type {\n",
       "        vertical-align: middle;\n",
       "    }\n",
       "\n",
       "    .dataframe tbody tr th {\n",
       "        vertical-align: top;\n",
       "    }\n",
       "\n",
       "    .dataframe thead th {\n",
       "        text-align: right;\n",
       "    }\n",
       "</style>\n",
       "<table border=\"1\" class=\"dataframe\">\n",
       "  <thead>\n",
       "    <tr style=\"text-align: right;\">\n",
       "      <th></th>\n",
       "      <th></th>\n",
       "      <th>Count</th>\n",
       "      <th>Percentage</th>\n",
       "    </tr>\n",
       "    <tr>\n",
       "      <th>gill-size</th>\n",
       "      <th>target</th>\n",
       "      <th></th>\n",
       "      <th></th>\n",
       "    </tr>\n",
       "  </thead>\n",
       "  <tbody>\n",
       "    <tr>\n",
       "      <th rowspan=\"2\" valign=\"top\">b</th>\n",
       "      <th>e</th>\n",
       "      <td>3920</td>\n",
       "      <td>69.850321</td>\n",
       "    </tr>\n",
       "    <tr>\n",
       "      <th>p</th>\n",
       "      <td>1692</td>\n",
       "      <td>30.149679</td>\n",
       "    </tr>\n",
       "    <tr>\n",
       "      <th rowspan=\"2\" valign=\"top\">n</th>\n",
       "      <th>e</th>\n",
       "      <td>288</td>\n",
       "      <td>11.464968</td>\n",
       "    </tr>\n",
       "    <tr>\n",
       "      <th>p</th>\n",
       "      <td>2224</td>\n",
       "      <td>88.535032</td>\n",
       "    </tr>\n",
       "  </tbody>\n",
       "</table>\n",
       "</div>"
      ],
      "text/plain": [
       "                  Count  Percentage\n",
       "gill-size target                   \n",
       "b         e        3920   69.850321\n",
       "          p        1692   30.149679\n",
       "n         e         288   11.464968\n",
       "          p        2224   88.535032"
      ]
     },
     "execution_count": 9,
     "metadata": {},
     "output_type": "execute_result"
    }
   ],
   "source": [
    "# find out for each category of gill-size, how many are edible/poisonous\n",
    "gill_size_target_count = mushroom.groupby(['gill-size', 'target']).size()\n",
    "gill_size_target_percentage = gill_size_target_count/mushroom.groupby('gill-size').size() *100\n",
    "gill_size_target_result = pd.DataFrame({'Count':gill_size_target_count, 'Percentage':gill_size_target_percentage})\n",
    "gill_size_target_result"
   ]
  },
  {
   "cell_type": "code",
   "execution_count": 10,
   "id": "e844d9e6-d933-4b80-9a44-3ad778c897a2",
   "metadata": {
    "scrolled": true
   },
   "outputs": [
    {
     "data": {
      "text/plain": [
       "<Axes: xlabel='count', ylabel='gill-size'>"
      ]
     },
     "execution_count": 10,
     "metadata": {},
     "output_type": "execute_result"
    },
    {
     "data": {
      "image/png": "[encoded data removed]",
      "text/plain": [
       "<Figure size 640x480 with 1 Axes>"
      ]
     },
     "metadata": {},
     "output_type": "display_data"
    }
   ],
   "source": [
    "sns.countplot(data=mushroom, y='gill-size', hue='target')"
   ]
  },
  {
   "cell_type": "markdown",
   "id": "8bbfa37f-dd76-4e6d-83fe-e24c72274d37",
   "metadata": {},
   "source": [
    "Gill size is another feature we need to further examine before using it to predict if a mushroom is poisonous or edible, since neither broad gill size (70% edible, 30% poisonous) nor narrow size (11% edible, 89% poisonous) can be used to 100% determine if a mushroom is poisonous or not. "
   ]
  },
  {
   "cell_type": "markdown",
   "id": "86683714-37dd-42c3-b503-6eb9bae95d21",
   "metadata": {},
   "source": [
    "5. \tGill Color vs Target"
   ]
  },
  {
   "cell_type": "code",
   "execution_count": 11,
   "id": "717b6021-9f35-4770-bed3-4a7cea072844",
   "metadata": {},
   "outputs": [
    {
     "data": {
      "text/html": [
       "<div>\n",
       "<style scoped>\n",
       "    .dataframe tbody tr th:only-of-type {\n",
       "        vertical-align: middle;\n",
       "    }\n",
       "\n",
       "    .dataframe tbody tr th {\n",
       "        vertical-align: top;\n",
       "    }\n",
       "\n",
       "    .dataframe thead th {\n",
       "        text-align: right;\n",
       "    }\n",
       "</style>\n",
       "<table border=\"1\" class=\"dataframe\">\n",
       "  <thead>\n",
       "    <tr style=\"text-align: right;\">\n",
       "      <th></th>\n",
       "      <th></th>\n",
       "      <th>Count</th>\n",
       "      <th>Percentage</th>\n",
       "    </tr>\n",
       "    <tr>\n",
       "      <th>gill-color</th>\n",
       "      <th>target</th>\n",
       "      <th></th>\n",
       "      <th></th>\n",
       "    </tr>\n",
       "  </thead>\n",
       "  <tbody>\n",
       "    <tr>\n",
       "      <th>b</th>\n",
       "      <th>p</th>\n",
       "      <td>1728</td>\n",
       "      <td>100.000000</td>\n",
       "    </tr>\n",
       "    <tr>\n",
       "      <th>e</th>\n",
       "      <th>e</th>\n",
       "      <td>96</td>\n",
       "      <td>100.000000</td>\n",
       "    </tr>\n",
       "    <tr>\n",
       "      <th rowspan=\"2\" valign=\"top\">g</th>\n",
       "      <th>e</th>\n",
       "      <td>248</td>\n",
       "      <td>32.978723</td>\n",
       "    </tr>\n",
       "    <tr>\n",
       "      <th>p</th>\n",
       "      <td>504</td>\n",
       "      <td>67.021277</td>\n",
       "    </tr>\n",
       "    <tr>\n",
       "      <th rowspan=\"2\" valign=\"top\">h</th>\n",
       "      <th>e</th>\n",
       "      <td>204</td>\n",
       "      <td>27.868852</td>\n",
       "    </tr>\n",
       "    <tr>\n",
       "      <th>p</th>\n",
       "      <td>528</td>\n",
       "      <td>72.131148</td>\n",
       "    </tr>\n",
       "    <tr>\n",
       "      <th rowspan=\"2\" valign=\"top\">k</th>\n",
       "      <th>e</th>\n",
       "      <td>344</td>\n",
       "      <td>84.313725</td>\n",
       "    </tr>\n",
       "    <tr>\n",
       "      <th>p</th>\n",
       "      <td>64</td>\n",
       "      <td>15.686275</td>\n",
       "    </tr>\n",
       "    <tr>\n",
       "      <th rowspan=\"2\" valign=\"top\">n</th>\n",
       "      <th>e</th>\n",
       "      <td>936</td>\n",
       "      <td>89.312977</td>\n",
       "    </tr>\n",
       "    <tr>\n",
       "      <th>p</th>\n",
       "      <td>112</td>\n",
       "      <td>10.687023</td>\n",
       "    </tr>\n",
       "    <tr>\n",
       "      <th>o</th>\n",
       "      <th>e</th>\n",
       "      <td>64</td>\n",
       "      <td>100.000000</td>\n",
       "    </tr>\n",
       "    <tr>\n",
       "      <th rowspan=\"2\" valign=\"top\">p</th>\n",
       "      <th>e</th>\n",
       "      <td>852</td>\n",
       "      <td>57.104558</td>\n",
       "    </tr>\n",
       "    <tr>\n",
       "      <th>p</th>\n",
       "      <td>640</td>\n",
       "      <td>42.895442</td>\n",
       "    </tr>\n",
       "    <tr>\n",
       "      <th>r</th>\n",
       "      <th>p</th>\n",
       "      <td>24</td>\n",
       "      <td>100.000000</td>\n",
       "    </tr>\n",
       "    <tr>\n",
       "      <th rowspan=\"2\" valign=\"top\">u</th>\n",
       "      <th>e</th>\n",
       "      <td>444</td>\n",
       "      <td>90.243902</td>\n",
       "    </tr>\n",
       "    <tr>\n",
       "      <th>p</th>\n",
       "      <td>48</td>\n",
       "      <td>9.756098</td>\n",
       "    </tr>\n",
       "    <tr>\n",
       "      <th rowspan=\"2\" valign=\"top\">w</th>\n",
       "      <th>e</th>\n",
       "      <td>956</td>\n",
       "      <td>79.534110</td>\n",
       "    </tr>\n",
       "    <tr>\n",
       "      <th>p</th>\n",
       "      <td>246</td>\n",
       "      <td>20.465890</td>\n",
       "    </tr>\n",
       "    <tr>\n",
       "      <th rowspan=\"2\" valign=\"top\">y</th>\n",
       "      <th>e</th>\n",
       "      <td>64</td>\n",
       "      <td>74.418605</td>\n",
       "    </tr>\n",
       "    <tr>\n",
       "      <th>p</th>\n",
       "      <td>22</td>\n",
       "      <td>25.581395</td>\n",
       "    </tr>\n",
       "  </tbody>\n",
       "</table>\n",
       "</div>"
      ],
      "text/plain": [
       "                   Count  Percentage\n",
       "gill-color target                   \n",
       "b          p        1728  100.000000\n",
       "e          e          96  100.000000\n",
       "g          e         248   32.978723\n",
       "           p         504   67.021277\n",
       "h          e         204   27.868852\n",
       "           p         528   72.131148\n",
       "k          e         344   84.313725\n",
       "           p          64   15.686275\n",
       "n          e         936   89.312977\n",
       "           p         112   10.687023\n",
       "o          e          64  100.000000\n",
       "p          e         852   57.104558\n",
       "           p         640   42.895442\n",
       "r          p          24  100.000000\n",
       "u          e         444   90.243902\n",
       "           p          48    9.756098\n",
       "w          e         956   79.534110\n",
       "           p         246   20.465890\n",
       "y          e          64   74.418605\n",
       "           p          22   25.581395"
      ]
     },
     "execution_count": 11,
     "metadata": {},
     "output_type": "execute_result"
    }
   ],
   "source": [
    "# find out for each category of gill-color, how many are edible/poisonous\n",
    "gill_color_target_count = mushroom.groupby(['gill-color', 'target']).size()\n",
    "gill_color_target_percentage = gill_color_target_count/mushroom.groupby('gill-color').size() *100\n",
    "gill_color_target_result = pd.DataFrame({'Count':gill_color_target_count, 'Percentage':gill_color_target_percentage})\n",
    "gill_color_target_result"
   ]
  },
  {
   "cell_type": "code",
   "execution_count": 12,
   "id": "e6257fc1-2343-48cd-8a15-a5e390b97007",
   "metadata": {},
   "outputs": [
    {
     "data": {
      "text/plain": [
       "<Axes: xlabel='count', ylabel='gill-color'>"
      ]
     },
     "execution_count": 12,
     "metadata": {},
     "output_type": "execute_result"
    },
    {
     "data": {
      "image/png": "[encoded data removed]",
      "text/plain": [
       "<Figure size 640x480 with 1 Axes>"
      ]
     },
     "metadata": {},
     "output_type": "display_data"
    }
   ],
   "source": [
    "sns.countplot(data=mushroom, y='gill-color', hue='target')"
   ]
  },
  {
   "cell_type": "markdown",
   "id": "78970da7-e435-4c72-867a-095751711422",
   "metadata": {},
   "source": [
    "Gill color can be a useful feature to predict if a mushroom is poisonous or edible. For this dataset, mushrooms with buff(b) or green(r) colors are 100% poisonous, mushrooms with red(e) or orange(o) colors are 100% edible. However, the number of datapoints for green mushrooms are only 24, we will need more dataset to check if green mushrooms are guareentee"
   ]
  },
  {
   "cell_type": "markdown",
   "id": "be2dd686-1ad6-40d6-949f-f375541fc209",
   "metadata": {},
   "source": [
    "## Convert values from strings to numbers\n",
    "\n",
    "The current values are in letters, downstream processing using scikit-learn requires that values be stored as numerics. Next, we convert the strings to numbers using the mushroom_dictionary."
   ]
  },
  {
   "cell_type": "code",
   "execution_count": 13,
   "id": "1c00a74b",
   "metadata": {},
   "outputs": [],
   "source": [
    "mushroom_dictionary = {\n",
    "    'target': {'e': 0,'p': 1},\n",
    "    'odor':{'a': 0,'l': 1,'c': 2,'y': 3,'f': 4,'m': 5,'n': 6,'p': 7,'s': 8},\n",
    "    'gill-attachment':{'a': 0,'d': 1,'f': 2,'n': 3},\n",
    "    'gill-spacing':{'c': 0, 'w': 1, 'd': 2},\n",
    "    'gill-size':{'b': 0,'n': 1},\n",
    "    'gill-color':{'k': 0,'n': 1,'b': 2,'h':3,'g': 4,'r': 5,'o': 6,'p': 7,'u': 8,'e': 9,'w': 10,'y': 11}\n",
    "}"
   ]
  },
  {
   "cell_type": "code",
   "execution_count": 14,
   "id": "a08c419b",
   "metadata": {},
   "outputs": [
    {
     "data": {
      "text/html": [
       "<div>\n",
       "<style scoped>\n",
       "    .dataframe tbody tr th:only-of-type {\n",
       "        vertical-align: middle;\n",
       "    }\n",
       "\n",
       "    .dataframe tbody tr th {\n",
       "        vertical-align: top;\n",
       "    }\n",
       "\n",
       "    .dataframe thead th {\n",
       "        text-align: right;\n",
       "    }\n",
       "</style>\n",
       "<table border=\"1\" class=\"dataframe\">\n",
       "  <thead>\n",
       "    <tr style=\"text-align: right;\">\n",
       "      <th></th>\n",
       "      <th>target</th>\n",
       "      <th>odor</th>\n",
       "      <th>gill-attachment</th>\n",
       "      <th>gill-spacing</th>\n",
       "      <th>gill-size</th>\n",
       "      <th>gill-color</th>\n",
       "    </tr>\n",
       "  </thead>\n",
       "  <tbody>\n",
       "    <tr>\n",
       "      <th>0</th>\n",
       "      <td>1</td>\n",
       "      <td>7</td>\n",
       "      <td>2</td>\n",
       "      <td>0</td>\n",
       "      <td>1</td>\n",
       "      <td>0</td>\n",
       "    </tr>\n",
       "    <tr>\n",
       "      <th>1</th>\n",
       "      <td>0</td>\n",
       "      <td>0</td>\n",
       "      <td>2</td>\n",
       "      <td>0</td>\n",
       "      <td>0</td>\n",
       "      <td>0</td>\n",
       "    </tr>\n",
       "    <tr>\n",
       "      <th>2</th>\n",
       "      <td>0</td>\n",
       "      <td>1</td>\n",
       "      <td>2</td>\n",
       "      <td>0</td>\n",
       "      <td>0</td>\n",
       "      <td>1</td>\n",
       "    </tr>\n",
       "    <tr>\n",
       "      <th>3</th>\n",
       "      <td>1</td>\n",
       "      <td>7</td>\n",
       "      <td>2</td>\n",
       "      <td>0</td>\n",
       "      <td>1</td>\n",
       "      <td>1</td>\n",
       "    </tr>\n",
       "    <tr>\n",
       "      <th>4</th>\n",
       "      <td>0</td>\n",
       "      <td>6</td>\n",
       "      <td>2</td>\n",
       "      <td>1</td>\n",
       "      <td>0</td>\n",
       "      <td>0</td>\n",
       "    </tr>\n",
       "  </tbody>\n",
       "</table>\n",
       "</div>"
      ],
      "text/plain": [
       "  target odor gill-attachment gill-spacing gill-size gill-color\n",
       "0      1    7               2            0         1          0\n",
       "1      0    0               2            0         0          0\n",
       "2      0    1               2            0         0          1\n",
       "3      1    7               2            0         1          1\n",
       "4      0    6               2            1         0          0"
      ]
     },
     "execution_count": 14,
     "metadata": {},
     "output_type": "execute_result"
    }
   ],
   "source": [
    "pd.set_option('future.no_silent_downcasting', True) \n",
    "\n",
    "mushroom.replace(mushroom_dictionary, inplace=True)\n",
    "mushroom.head()"
   ]
  },
  {
   "cell_type": "markdown",
   "id": "c4e3c06a-5d0e-4730-8396-d18f96d67b07",
   "metadata": {},
   "source": [
    "Now the dataset is ready for model training and testing."
   ]
  },
  {
   "cell_type": "code",
   "execution_count": null,
   "id": "b35defe9-be16-4f72-a345-01e3cc102e2e",
   "metadata": {},
   "outputs": [],
   "source": []
  }
 ],
 "metadata": {
  "kernelspec": {
   "display_name": "Python 3 (ipykernel)",
   "language": "python",
   "name": "python3"
  },
  "language_info": {
   "codemirror_mode": {
    "name": "ipython",
    "version": 3
   },
   "file_extension": ".py",
   "mimetype": "text/x-python",
   "name": "python",
   "nbconvert_exporter": "python",
   "pygments_lexer": "ipython3",
   "version": "3.11.1"
  }
 },
 "nbformat": 4,
 "nbformat_minor": 5
}
